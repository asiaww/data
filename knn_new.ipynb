{
 "cells": [
  {
   "cell_type": "code",
   "execution_count": 11,
   "metadata": {},
   "outputs": [],
   "source": [
    "import numpy as np\n",
    "import pandas as pd\n",
    "import matplotlib.pyplot as plt\n",
    "import itertools\n",
    "import pickle\n",
    "\n",
    "from sklearn.model_selection import train_test_split\n",
    "from sklearn.neighbors import KNeighborsClassifier\n",
    "from sklearn.metrics import confusion_matrix\n",
    "from sklearn.metrics import classification_report\n",
    "from sklearn.metrics import precision_recall_fscore_support\n",
    "from sklearn.metrics import log_loss\n",
    "\n",
    "from sklearn.model_selection import GridSearchCV"
   ]
  },
  {
   "cell_type": "markdown",
   "metadata": {},
   "source": [
    "<h2>3000</h2>"
   ]
  },
  {
   "cell_type": "code",
   "execution_count": 27,
   "metadata": {},
   "outputs": [],
   "source": [
    "X = pd.read_csv('conc_3000.csv', index_col=[0]).sample(frac=1).reset_index(drop=True)\n",
    "Y = X.pop('LABEL').values\n",
    "X_train, X_test, Y_train, Y_test = train_test_split(X.values, Y, test_size=0.2)"
   ]
  },
  {
   "cell_type": "code",
   "execution_count": 28,
   "metadata": {},
   "outputs": [
    {
     "name": "stdout",
     "output_type": "stream",
     "text": [
      "Accuracy 0.884167\n",
      "Precision: 0.89\n",
      "Recall: 0.89\n",
      "F1: 0.88\n",
      "LOGARITHMIC LOSS\n",
      "Logarithmic loss: 4.00\n"
     ]
    }
   ],
   "source": [
    "knn = KNeighborsClassifier(n_neighbors=2)\n",
    "knn.fit(X_train,Y_train)\n",
    "\n",
    "Y_pred = knn.predict(X_test)\n",
    "\n",
    "print('Accuracy %f' % knn.score(X_test,Y_test))\n",
    "PRF = precision_recall_fscore_support(Y_test, Y_pred, average='macro')\n",
    "print('Precision: %.2f' % PRF[0])\n",
    "print('Recall: %.2f' % PRF[1])\n",
    "print('F1: %.2f' % PRF[2])\n",
    "\n",
    "print('LOGARITHMIC LOSS')\n",
    "print('Logarithmic loss: %.2f' % log_loss(Y_test, Y_pred,normalize=True))"
   ]
  },
  {
   "cell_type": "code",
   "execution_count": 29,
   "metadata": {},
   "outputs": [],
   "source": [
    "# save the model to disk\n",
    "filename = 'knn_3000.sav'\n",
    "pickle.dump(knn, open(filename, 'wb'))"
   ]
  },
  {
   "cell_type": "markdown",
   "metadata": {},
   "source": [
    "<h2>100</h2>"
   ]
  },
  {
   "cell_type": "code",
   "execution_count": 31,
   "metadata": {},
   "outputs": [],
   "source": [
    "X = pd.read_csv('conc_100.csv', index_col=[0]).sample(frac=1).reset_index(drop=True)\n",
    "Y = X.pop('LABEL').values\n",
    "X_train, X_test, Y_train, Y_test = train_test_split(X.values, Y, test_size=0.2)"
   ]
  },
  {
   "cell_type": "code",
   "execution_count": 34,
   "metadata": {},
   "outputs": [
    {
     "name": "stdout",
     "output_type": "stream",
     "text": [
      "k-parameter tuning...\n",
      "Best achieved score: 0.781250\n",
      "k-parameter value: 2\n"
     ]
    },
    {
     "name": "stderr",
     "output_type": "stream",
     "text": [
      "/home/jwetesko/.local/lib/python3.4/site-packages/sklearn/model_selection/_search.py:841: DeprecationWarning: The default of the `iid` parameter will change from True to False in version 0.22 and will be removed in 0.24. This will change numeric results when test-set sizes are unequal.\n",
      "  DeprecationWarning)\n"
     ]
    }
   ],
   "source": [
    "print('k-parameter tuning...')\n",
    "param_grid = {'n_neighbors':np.arange(2,50)}\n",
    "knn = KNeighborsClassifier()\n",
    "knn_cv= GridSearchCV(knn,param_grid,cv=5)\n",
    "knn_cv.fit(X_train,Y_train)\n",
    "print('Best achieved score: %f' % knn_cv.best_score_)\n",
    "print('k-parameter value: %i' % knn_cv.best_params_['n_neighbors'])"
   ]
  },
  {
   "cell_type": "code",
   "execution_count": 15,
   "metadata": {},
   "outputs": [
    {
     "name": "stdout",
     "output_type": "stream",
     "text": [
      "Accuracy 0.775000\n",
      "Precision: 0.77\n",
      "Recall: 0.77\n",
      "F1: 0.77\n",
      "LOGARITHMIC LOSS\n",
      "Logarithmic loss: 7.77\n"
     ]
    }
   ],
   "source": [
    "knn = KNeighborsClassifier(n_neighbors=2)\n",
    "knn.fit(X_train,Y_train)\n",
    "\n",
    "Y_pred = knn.predict(X_test)\n",
    "\n",
    "print('Accuracy %f' % knn.score(X_test,Y_test))\n",
    "PRF = precision_recall_fscore_support(Y_test, Y_pred, average='macro')\n",
    "print('Precision: %.2f' % PRF[0])\n",
    "print('Recall: %.2f' % PRF[1])\n",
    "print('F1: %.2f' % PRF[2])\n",
    "\n",
    "print('LOGARITHMIC LOSS')\n",
    "print('Logarithmic loss: %.2f' % log_loss(Y_test, Y_pred,normalize=True))"
   ]
  },
  {
   "cell_type": "code",
   "execution_count": 16,
   "metadata": {},
   "outputs": [],
   "source": [
    "# save the model to disk\n",
    "filename = 'knn_100.sav'\n",
    "pickle.dump(knn, open(filename, 'wb'))"
   ]
  },
  {
   "cell_type": "markdown",
   "metadata": {},
   "source": [
    "<h2>500</h2>"
   ]
  },
  {
   "cell_type": "code",
   "execution_count": 17,
   "metadata": {},
   "outputs": [],
   "source": [
    "X = pd.read_csv('conc_500.csv', index_col=[0]).sample(frac=1).reset_index(drop=True)\n",
    "Y = X.pop('LABEL').values\n",
    "X_train, X_test, Y_train, Y_test = train_test_split(X.values, Y, test_size=0.2)"
   ]
  },
  {
   "cell_type": "code",
   "execution_count": 18,
   "metadata": {},
   "outputs": [
    {
     "name": "stdout",
     "output_type": "stream",
     "text": [
      "Accuracy 0.865000\n",
      "Precision: 0.87\n",
      "Recall: 0.87\n",
      "F1: 0.86\n",
      "LOGARITHMIC LOSS\n",
      "Logarithmic loss: 4.66\n"
     ]
    }
   ],
   "source": [
    "knn = KNeighborsClassifier(n_neighbors=2)\n",
    "knn.fit(X_train,Y_train)\n",
    "\n",
    "Y_pred = knn.predict(X_test)\n",
    "\n",
    "print('Accuracy %f' % knn.score(X_test,Y_test))\n",
    "PRF = precision_recall_fscore_support(Y_test, Y_pred, average='macro')\n",
    "print('Precision: %.2f' % PRF[0])\n",
    "print('Recall: %.2f' % PRF[1])\n",
    "print('F1: %.2f' % PRF[2])\n",
    "\n",
    "print('LOGARITHMIC LOSS')\n",
    "print('Logarithmic loss: %.2f' % log_loss(Y_test, Y_pred,normalize=True))"
   ]
  },
  {
   "cell_type": "code",
   "execution_count": 19,
   "metadata": {},
   "outputs": [],
   "source": [
    "# save the model to disk\n",
    "filename = 'knn_500.sav'\n",
    "pickle.dump(knn, open(filename, 'wb'))"
   ]
  },
  {
   "cell_type": "markdown",
   "metadata": {},
   "source": [
    "<h2>1000</h2>"
   ]
  },
  {
   "cell_type": "code",
   "execution_count": 21,
   "metadata": {},
   "outputs": [],
   "source": [
    "X = pd.read_csv('conc_1000.csv', index_col=[0]).sample(frac=1).reset_index(drop=True)\n",
    "Y = X.pop('LABEL').values\n",
    "X_train, X_test, Y_train, Y_test = train_test_split(X.values, Y, test_size=0.2)"
   ]
  },
  {
   "cell_type": "code",
   "execution_count": 22,
   "metadata": {},
   "outputs": [
    {
     "name": "stdout",
     "output_type": "stream",
     "text": [
      "Accuracy 0.875000\n",
      "Precision: 0.88\n",
      "Recall: 0.87\n",
      "F1: 0.87\n",
      "LOGARITHMIC LOSS\n",
      "Logarithmic loss: 4.32\n"
     ]
    }
   ],
   "source": [
    "knn = KNeighborsClassifier(n_neighbors=2)\n",
    "knn.fit(X_train,Y_train)\n",
    "\n",
    "Y_pred = knn.predict(X_test)\n",
    "\n",
    "print('Accuracy %f' % knn.score(X_test,Y_test))\n",
    "PRF = precision_recall_fscore_support(Y_test, Y_pred, average='macro')\n",
    "print('Precision: %.2f' % PRF[0])\n",
    "print('Recall: %.2f' % PRF[1])\n",
    "print('F1: %.2f' % PRF[2])\n",
    "\n",
    "print('LOGARITHMIC LOSS')\n",
    "print('Logarithmic loss: %.2f' % log_loss(Y_test, Y_pred,normalize=True))"
   ]
  },
  {
   "cell_type": "code",
   "execution_count": 23,
   "metadata": {},
   "outputs": [],
   "source": [
    "# save the model to disk\n",
    "filename = 'knn_1000.sav'\n",
    "pickle.dump(knn, open(filename, 'wb'))"
   ]
  },
  {
   "cell_type": "markdown",
   "metadata": {},
   "source": [
    "<h2>2000</h2>"
   ]
  },
  {
   "cell_type": "code",
   "execution_count": 24,
   "metadata": {},
   "outputs": [],
   "source": [
    "X = pd.read_csv('conc_2000.csv', index_col=[0]).sample(frac=1).reset_index(drop=True)\n",
    "Y = X.pop('LABEL').values\n",
    "X_train, X_test, Y_train, Y_test = train_test_split(X.values, Y, test_size=0.2)"
   ]
  },
  {
   "cell_type": "code",
   "execution_count": 25,
   "metadata": {},
   "outputs": [
    {
     "name": "stdout",
     "output_type": "stream",
     "text": [
      "Accuracy 0.885000\n",
      "Precision: 0.89\n",
      "Recall: 0.89\n",
      "F1: 0.88\n",
      "LOGARITHMIC LOSS\n",
      "Logarithmic loss: 3.97\n"
     ]
    }
   ],
   "source": [
    "knn = KNeighborsClassifier(n_neighbors=2)\n",
    "knn.fit(X_train,Y_train)\n",
    "\n",
    "Y_pred = knn.predict(X_test)\n",
    "\n",
    "print('Accuracy %f' % knn.score(X_test,Y_test))\n",
    "PRF = precision_recall_fscore_support(Y_test, Y_pred, average='macro')\n",
    "print('Precision: %.2f' % PRF[0])\n",
    "print('Recall: %.2f' % PRF[1])\n",
    "print('F1: %.2f' % PRF[2])\n",
    "\n",
    "print('LOGARITHMIC LOSS')\n",
    "print('Logarithmic loss: %.2f' % log_loss(Y_test, Y_pred,normalize=True))"
   ]
  },
  {
   "cell_type": "code",
   "execution_count": 26,
   "metadata": {},
   "outputs": [],
   "source": [
    "# save the model to disk\n",
    "filename = 'knn_2000.sav'\n",
    "pickle.dump(knn, open(filename, 'wb'))"
   ]
  },
  {
   "cell_type": "code",
   "execution_count": null,
   "metadata": {},
   "outputs": [],
   "source": []
  }
 ],
 "metadata": {
  "kernelspec": {
   "display_name": "Python 3",
   "language": "python",
   "name": "python3"
  },
  "language_info": {
   "codemirror_mode": {
    "name": "ipython",
    "version": 3
   },
   "file_extension": ".py",
   "mimetype": "text/x-python",
   "name": "python",
   "nbconvert_exporter": "python",
   "pygments_lexer": "ipython3",
   "version": "3.4.3"
  }
 },
 "nbformat": 4,
 "nbformat_minor": 2
}
