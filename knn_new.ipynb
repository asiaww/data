{
 "cells": [
  {
   "cell_type": "code",
   "execution_count": 30,
   "metadata": {},
   "outputs": [],
   "source": [
    "import numpy as np\n",
    "import pandas as pd\n",
    "import matplotlib.pyplot as plt\n",
    "import itertools\n",
    "import pickle\n",
    "\n",
    "from sklearn.model_selection import train_test_split\n",
    "from sklearn.neighbors import KNeighborsClassifier\n",
    "from sklearn.metrics import confusion_matrix\n",
    "from sklearn.metrics import classification_report\n",
    "from sklearn.metrics import precision_recall_fscore_support\n",
    "from sklearn.metrics import log_loss\n",
    "\n",
    "from sklearn.model_selection import GridSearchCV\n",
    "\n",
    "import time"
   ]
  },
  {
   "cell_type": "markdown",
   "metadata": {},
   "source": [
    "<h2>3000</h2>"
   ]
  },
  {
   "cell_type": "code",
   "execution_count": 31,
   "metadata": {},
   "outputs": [],
   "source": [
    "X = pd.read_csv('conc_3000.csv', index_col=[0]).sample(frac=1).reset_index(drop=True)\n",
    "Y = X.pop('LABEL').values\n",
    "X_train, X_test, Y_train, Y_test = train_test_split(X.values, Y, test_size=0.2)"
   ]
  },
  {
   "cell_type": "code",
   "execution_count": 32,
   "metadata": {},
   "outputs": [
    {
     "name": "stdout",
     "output_type": "stream",
     "text": [
      "Accuracy 0.8592\n",
      "Precision: 0.8681\n",
      "Recall: 0.8589\n",
      "F1: 0.8582\n",
      "0.17478632926940918\n"
     ]
    }
   ],
   "source": [
    "knn = KNeighborsClassifier(n_neighbors=2)\n",
    "start = time.time()\n",
    "knn.fit(X_train,Y_train)\n",
    "end = time.time()\n",
    "Y_pred = knn.predict(X_test)\n",
    "\n",
    "print('Accuracy %.4f' % knn.score(X_test,Y_test))\n",
    "PRF = precision_recall_fscore_support(Y_test, Y_pred, average='macro')\n",
    "print('Precision: %.4f' % PRF[0])\n",
    "print('Recall: %.4f' % PRF[1])\n",
    "print('F1: %.4f' % PRF[2])\n",
    "\n",
    "print(end - start)"
   ]
  },
  {
   "cell_type": "code",
   "execution_count": 29,
   "metadata": {},
   "outputs": [],
   "source": [
    "# save the model to disk\n",
    "filename = 'knn_3000.sav'\n",
    "pickle.dump(knn, open(filename, 'wb'))"
   ]
  },
  {
   "cell_type": "markdown",
   "metadata": {},
   "source": [
    "<h2>100</h2>"
   ]
  },
  {
   "cell_type": "code",
   "execution_count": 34,
   "metadata": {},
   "outputs": [],
   "source": [
    "X = pd.read_csv('conc_100.csv', index_col=[0]).sample(frac=1).reset_index(drop=True)\n",
    "Y = X.pop('LABEL').values\n",
    "X_train, X_test, Y_train, Y_test = train_test_split(X.values, Y, test_size=0.2)"
   ]
  },
  {
   "cell_type": "code",
   "execution_count": 34,
   "metadata": {},
   "outputs": [
    {
     "name": "stdout",
     "output_type": "stream",
     "text": [
      "k-parameter tuning...\n",
      "Best achieved score: 0.781250\n",
      "k-parameter value: 2\n"
     ]
    },
    {
     "name": "stderr",
     "output_type": "stream",
     "text": [
      "/home/jwetesko/.local/lib/python3.4/site-packages/sklearn/model_selection/_search.py:841: DeprecationWarning: The default of the `iid` parameter will change from True to False in version 0.22 and will be removed in 0.24. This will change numeric results when test-set sizes are unequal.\n",
      "  DeprecationWarning)\n"
     ]
    }
   ],
   "source": [
    "print('k-parameter tuning...')\n",
    "param_grid = {'n_neighbors':np.arange(2,50)}\n",
    "knn = KNeighborsClassifier()\n",
    "knn_cv= GridSearchCV(knn,param_grid,cv=5)\n",
    "knn_cv.fit(X_train,Y_train)\n",
    "print('Best achieved score: %f' % knn_cv.best_score_)\n",
    "print('k-parameter value: %i' % knn_cv.best_params_['n_neighbors'])"
   ]
  },
  {
   "cell_type": "code",
   "execution_count": 35,
   "metadata": {},
   "outputs": [
    {
     "name": "stdout",
     "output_type": "stream",
     "text": [
      "Accuracy 0.8250\n",
      "Precision: 0.8200\n",
      "Recall: 0.8125\n",
      "F1: 0.8157\n",
      "0.003041505813598633\n"
     ]
    }
   ],
   "source": [
    "knn = KNeighborsClassifier(n_neighbors=2)\n",
    "start = time.time()\n",
    "knn.fit(X_train,Y_train)\n",
    "end = time.time()\n",
    "\n",
    "Y_pred = knn.predict(X_test)\n",
    "\n",
    "print('Accuracy %.4f' % knn.score(X_test,Y_test))\n",
    "PRF = precision_recall_fscore_support(Y_test, Y_pred, average='macro')\n",
    "print('Precision: %.4f' % PRF[0])\n",
    "print('Recall: %.4f' % PRF[1])\n",
    "print('F1: %.4f' % PRF[2])\n",
    "print(end - start)"
   ]
  },
  {
   "cell_type": "code",
   "execution_count": 16,
   "metadata": {},
   "outputs": [],
   "source": [
    "# save the model to disk\n",
    "filename = 'knn_100.sav'\n",
    "pickle.dump(knn, open(filename, 'wb'))"
   ]
  },
  {
   "cell_type": "markdown",
   "metadata": {},
   "source": [
    "<h2>500</h2>"
   ]
  },
  {
   "cell_type": "code",
   "execution_count": 36,
   "metadata": {},
   "outputs": [],
   "source": [
    "X = pd.read_csv('conc_500.csv', index_col=[0]).sample(frac=1).reset_index(drop=True)\n",
    "Y = X.pop('LABEL').values\n",
    "X_train, X_test, Y_train, Y_test = train_test_split(X.values, Y, test_size=0.2)"
   ]
  },
  {
   "cell_type": "code",
   "execution_count": 37,
   "metadata": {},
   "outputs": [
    {
     "name": "stdout",
     "output_type": "stream",
     "text": [
      "Accuracy 0.8500\n",
      "Precision: 0.8588\n",
      "Recall: 0.8549\n",
      "F1: 0.8499\n",
      "0.01675868034362793\n"
     ]
    }
   ],
   "source": [
    "knn = KNeighborsClassifier(n_neighbors=2)\n",
    "start = time.time()\n",
    "knn.fit(X_train,Y_train)\n",
    "end = time.time()\n",
    "\n",
    "Y_pred = knn.predict(X_test)\n",
    "\n",
    "print('Accuracy %.4f' % knn.score(X_test,Y_test))\n",
    "PRF = precision_recall_fscore_support(Y_test, Y_pred, average='macro')\n",
    "print('Precision: %.4f' % PRF[0])\n",
    "print('Recall: %.4f' % PRF[1])\n",
    "print('F1: %.4f' % PRF[2])\n",
    "print(end - start)"
   ]
  },
  {
   "cell_type": "code",
   "execution_count": 19,
   "metadata": {},
   "outputs": [],
   "source": [
    "# save the model to disk\n",
    "filename = 'knn_500.sav'\n",
    "pickle.dump(knn, open(filename, 'wb'))"
   ]
  },
  {
   "cell_type": "markdown",
   "metadata": {},
   "source": [
    "<h2>1000</h2>"
   ]
  },
  {
   "cell_type": "code",
   "execution_count": 22,
   "metadata": {},
   "outputs": [],
   "source": [
    "X = pd.read_csv('conc_1000.csv', index_col=[0]).sample(frac=1).reset_index(drop=True)\n",
    "Y = X.pop('LABEL').values\n",
    "X_train, X_test, Y_train, Y_test = train_test_split(X.values, Y, test_size=0.2)"
   ]
  },
  {
   "cell_type": "code",
   "execution_count": 38,
   "metadata": {},
   "outputs": [
    {
     "name": "stdout",
     "output_type": "stream",
     "text": [
      "Accuracy 0.8500\n",
      "Precision: 0.8588\n",
      "Recall: 0.8549\n",
      "F1: 0.8499\n",
      "LOGARITHMIC LOSS\n",
      "Logarithmic loss: 5.18\n",
      "0.018171310424804688\n"
     ]
    }
   ],
   "source": [
    "knn = KNeighborsClassifier(n_neighbors=2)\n",
    "start = time.time()\n",
    "knn.fit(X_train,Y_train)\n",
    "end = time.time()\n",
    "\n",
    "Y_pred = knn.predict(X_test)\n",
    "\n",
    "print('Accuracy %.4f' % knn.score(X_test,Y_test))\n",
    "PRF = precision_recall_fscore_support(Y_test, Y_pred, average='macro')\n",
    "print('Precision: %.4f' % PRF[0])\n",
    "print('Recall: %.4f' % PRF[1])\n",
    "print('F1: %.4f' % PRF[2])\n",
    "\n",
    "print('LOGARITHMIC LOSS')\n",
    "print('Logarithmic loss: %.2f' % log_loss(Y_test, Y_pred,normalize=True))\n",
    "print(end - start)"
   ]
  },
  {
   "cell_type": "code",
   "execution_count": 23,
   "metadata": {},
   "outputs": [],
   "source": [
    "# save the model to disk\n",
    "filename = 'knn_1000.sav'\n",
    "pickle.dump(knn, open(filename, 'wb'))"
   ]
  },
  {
   "cell_type": "markdown",
   "metadata": {},
   "source": [
    "<h2>2000</h2>"
   ]
  },
  {
   "cell_type": "code",
   "execution_count": 39,
   "metadata": {},
   "outputs": [],
   "source": [
    "X = pd.read_csv('conc_2000.csv', index_col=[0]).sample(frac=1).reset_index(drop=True)\n",
    "Y = X.pop('LABEL').values\n",
    "X_train, X_test, Y_train, Y_test = train_test_split(X.values, Y, test_size=0.2)"
   ]
  },
  {
   "cell_type": "code",
   "execution_count": 40,
   "metadata": {},
   "outputs": [
    {
     "name": "stdout",
     "output_type": "stream",
     "text": [
      "Accuracy 0.8588\n",
      "Precision: 0.8586\n",
      "Recall: 0.8616\n",
      "F1: 0.8584\n",
      "0.12832021713256836\n"
     ]
    }
   ],
   "source": [
    "knn = KNeighborsClassifier(n_neighbors=2)\n",
    "start = time.time()\n",
    "knn.fit(X_train,Y_train)\n",
    "end = time.time()\n",
    "\n",
    "Y_pred = knn.predict(X_test)\n",
    "\n",
    "print('Accuracy %.4f' % knn.score(X_test,Y_test))\n",
    "PRF = precision_recall_fscore_support(Y_test, Y_pred, average='macro')\n",
    "print('Precision: %.4f' % PRF[0])\n",
    "print('Recall: %.4f' % PRF[1])\n",
    "print('F1: %.4f' % PRF[2])\n",
    "print(end - start)"
   ]
  },
  {
   "cell_type": "code",
   "execution_count": 26,
   "metadata": {},
   "outputs": [],
   "source": [
    "# save the model to disk\n",
    "filename = 'knn_2000.sav'\n",
    "pickle.dump(knn, open(filename, 'wb'))"
   ]
  },
  {
   "cell_type": "code",
   "execution_count": 41,
   "metadata": {},
   "outputs": [
    {
     "name": "stdout",
     "output_type": "stream",
     "text": [
      "Accuracy 0.4833\n",
      "Precision: 0.6779\n",
      "Recall: 0.5047\n",
      "F1: 0.3355\n",
      "0.11349320411682129\n"
     ]
    }
   ],
   "source": [
    "X = pd.read_csv('restricted_conc_3000.csv', index_col=[0]).sample(frac=1).reset_index(drop=True)\n",
    "Y = X.pop('LABEL').values\n",
    "X_train, X_test, Y_train, Y_test = train_test_split(X.values, Y, test_size=0.2)\n",
    "knn = KNeighborsClassifier(n_neighbors=2)\n",
    "start = time.time()\n",
    "knn.fit(X_train,Y_train)\n",
    "end = time.time()\n",
    "\n",
    "Y_pred = knn.predict(X_test)\n",
    "\n",
    "print('Accuracy %.4f' % knn.score(X_test,Y_test))\n",
    "PRF = precision_recall_fscore_support(Y_test, Y_pred, average='macro')\n",
    "print('Precision: %.4f' % PRF[0])\n",
    "print('Recall: %.4f' % PRF[1])\n",
    "print('F1: %.4f' % PRF[2])\n",
    "print(end - start)"
   ]
  },
  {
   "cell_type": "code",
   "execution_count": null,
   "metadata": {},
   "outputs": [],
   "source": []
  }
 ],
 "metadata": {
  "kernelspec": {
   "display_name": "Python 3",
   "language": "python",
   "name": "python3"
  },
  "language_info": {
   "codemirror_mode": {
    "name": "ipython",
    "version": 3
   },
   "file_extension": ".py",
   "mimetype": "text/x-python",
   "name": "python",
   "nbconvert_exporter": "python",
   "pygments_lexer": "ipython3",
   "version": "3.4.3"
  }
 },
 "nbformat": 4,
 "nbformat_minor": 2
}
