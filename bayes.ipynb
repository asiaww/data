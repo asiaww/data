{
 "cells": [
  {
   "cell_type": "code",
   "execution_count": 40,
   "metadata": {},
   "outputs": [],
   "source": [
    "import numpy as np\n",
    "import pandas as pd\n",
    "import matplotlib.pyplot as plt\n",
    "import itertools\n",
    "import pickle\n",
    "\n",
    "from sklearn.naive_bayes import BernoulliNB, GaussianNB, MultinomialNB\n",
    "from sklearn.model_selection import train_test_split\n",
    "from sklearn.metrics import precision_recall_fscore_support\n",
    "from sklearn.metrics import classification_report\n",
    "from sklearn.metrics import accuracy_score\n",
    "from sklearn.metrics import confusion_matrix\n",
    "from sklearn.metrics import log_loss\n",
    "from sklearn.metrics import roc_curve, auc\n",
    "\n",
    "from sklearn import datasets\n",
    "from sklearn.preprocessing import label_binarize\n",
    "\n",
    "import time"
   ]
  },
  {
   "cell_type": "markdown",
   "metadata": {},
   "source": [
    "<h2>3000</h2>"
   ]
  },
  {
   "cell_type": "code",
   "execution_count": 43,
   "metadata": {},
   "outputs": [],
   "source": [
    "X = pd.read_csv('conc_3000.csv').sample(frac=1).reset_index(drop=True)\n",
    "Y = X.pop('LABEL').values\n",
    "X_train, X_test, Y_train, Y_test = train_test_split(X.values, Y, test_size=0.2)"
   ]
  },
  {
   "cell_type": "code",
   "execution_count": 44,
   "metadata": {},
   "outputs": [
    {
     "name": "stdout",
     "output_type": "stream",
     "text": [
      "0.05750083923339844\n",
      "Accuracy: 0.7183\n",
      "Precision: 0.7377\n",
      "Recall: 0.7124\n",
      "F1: 0.7085\n"
     ]
    }
   ],
   "source": [
    "clf = BernoulliNB(alpha=0.1, binarize=0.0, class_prior=None, fit_prior=True)\n",
    "start = time.time()\n",
    "clf.fit(X_train, Y_train)\n",
    "end = time.time()\n",
    "Y_pred = clf.predict(X_test)\n",
    "\n",
    "print(end - start)\n",
    "print(\"Accuracy: %.4f\" % accuracy_score(Y_test, Y_pred))\n",
    "\n",
    "PRF = precision_recall_fscore_support(Y_test, Y_pred, average='macro')\n",
    "print('Precision: %.4f' % PRF[0])\n",
    "print('Recall: %.4f' % PRF[1])\n",
    "print('F1: %.4f' % PRF[2])"
   ]
  },
  {
   "cell_type": "code",
   "execution_count": 9,
   "metadata": {},
   "outputs": [],
   "source": [
    "# save the model to disk\n",
    "filename = 'bayes_3000.sav'\n",
    "pickle.dump(clf, open(filename, 'wb'))"
   ]
  },
  {
   "cell_type": "markdown",
   "metadata": {},
   "source": [
    "<h2>100</h2>"
   ]
  },
  {
   "cell_type": "code",
   "execution_count": 45,
   "metadata": {},
   "outputs": [],
   "source": [
    "X = pd.read_csv('conc_100.csv').sample(frac=1).reset_index(drop=True)\n",
    "Y = X.pop('LABEL').values\n",
    "X_train, X_test, Y_train, Y_test = train_test_split(X.values, Y, test_size=0.2)"
   ]
  },
  {
   "cell_type": "code",
   "execution_count": 46,
   "metadata": {},
   "outputs": [
    {
     "name": "stdout",
     "output_type": "stream",
     "text": [
      "0.01267862319946289\n",
      "Accuracy: 0.8500\n",
      "Precision: 0.8434\n",
      "Recall: 0.8542\n",
      "F1: 0.8465\n"
     ]
    }
   ],
   "source": [
    "clf = BernoulliNB(alpha=0.05, binarize=0.0, class_prior=None, fit_prior=True)\n",
    "start = time.time()\n",
    "clf.fit(X_train, Y_train)\n",
    "end = time.time()\n",
    "Y_pred = clf.predict(X_test)\n",
    "print(end - start)\n",
    "print(\"Accuracy: %.4f\" % accuracy_score(Y_test, Y_pred))\n",
    "\n",
    "PRF = precision_recall_fscore_support(Y_test, Y_pred, average='macro')\n",
    "print('Precision: %.4f' % PRF[0])\n",
    "print('Recall: %.4f' % PRF[1])\n",
    "print('F1: %.4f' % PRF[2])"
   ]
  },
  {
   "cell_type": "code",
   "execution_count": 13,
   "metadata": {},
   "outputs": [],
   "source": [
    "# save the model to disk\n",
    "filename = 'bayes_100.sav'\n",
    "pickle.dump(clf, open(filename, 'wb'))"
   ]
  },
  {
   "cell_type": "markdown",
   "metadata": {},
   "source": [
    "<h2>500</h2>"
   ]
  },
  {
   "cell_type": "code",
   "execution_count": 47,
   "metadata": {},
   "outputs": [],
   "source": [
    "X = pd.read_csv('conc_500.csv').sample(frac=1).reset_index(drop=True)\n",
    "Y = X.pop('LABEL').values\n",
    "X_train, X_test, Y_train, Y_test = train_test_split(X.values, Y, test_size=0.2)"
   ]
  },
  {
   "cell_type": "code",
   "execution_count": 48,
   "metadata": {},
   "outputs": [
    {
     "name": "stdout",
     "output_type": "stream",
     "text": [
      "Accuracy: 0.5900\n",
      "Precision: 0.6618\n",
      "Recall: 0.6078\n",
      "F1: 0.5603\n",
      "0.016429901123046875\n"
     ]
    }
   ],
   "source": [
    "clf = BernoulliNB(alpha=0.1, binarize=0.0, class_prior=None, fit_prior=True)\n",
    "start = time.time()\n",
    "clf.fit(X_train, Y_train)\n",
    "end = time.time()\n",
    "Y_pred = clf.predict(X_test)\n",
    "print(\"Accuracy: %.4f\" % accuracy_score(Y_test, Y_pred))\n",
    "\n",
    "PRF = precision_recall_fscore_support(Y_test, Y_pred, average='macro')\n",
    "print('Precision: %.4f' % PRF[0])\n",
    "print('Recall: %.4f' % PRF[1])\n",
    "print('F1: %.4f' % PRF[2])\n",
    "print(end - start)"
   ]
  },
  {
   "cell_type": "code",
   "execution_count": 19,
   "metadata": {},
   "outputs": [],
   "source": [
    "# save the model to disk\n",
    "filename = 'bayes_500.sav'\n",
    "pickle.dump(clf, open(filename, 'wb'))"
   ]
  },
  {
   "cell_type": "markdown",
   "metadata": {},
   "source": [
    "<h2>1000</h2>"
   ]
  },
  {
   "cell_type": "code",
   "execution_count": 49,
   "metadata": {},
   "outputs": [],
   "source": [
    "X = pd.read_csv('conc_1000.csv').sample(frac=1).reset_index(drop=True)\n",
    "Y = X.pop('LABEL').values\n",
    "X_train, X_test, Y_train, Y_test = train_test_split(X.values, Y, test_size=0.2)"
   ]
  },
  {
   "cell_type": "code",
   "execution_count": 50,
   "metadata": {},
   "outputs": [
    {
     "name": "stdout",
     "output_type": "stream",
     "text": [
      "Accuracy: 0.5775\n",
      "Precision: 0.6311\n",
      "Recall: 0.6033\n",
      "F1: 0.5629\n",
      "0.01811385154724121\n"
     ]
    }
   ],
   "source": [
    "clf = BernoulliNB(alpha=0.1, binarize=0.0, class_prior=None, fit_prior=True)\n",
    "start = time.time()\n",
    "clf.fit(X_train, Y_train)\n",
    "end = time.time()\n",
    "Y_pred = clf.predict(X_test)\n",
    "print(\"Accuracy: %.4f\" % accuracy_score(Y_test, Y_pred))\n",
    "\n",
    "PRF = precision_recall_fscore_support(Y_test, Y_pred, average='macro')\n",
    "print('Precision: %.4f' % PRF[0])\n",
    "print('Recall: %.4f' % PRF[1])\n",
    "print('F1: %.4f' % PRF[2])\n",
    "\n",
    "print(end - start)"
   ]
  },
  {
   "cell_type": "code",
   "execution_count": 22,
   "metadata": {},
   "outputs": [],
   "source": [
    "# save the model to disk\n",
    "filename = 'bayes_1000.sav'\n",
    "pickle.dump(clf, open(filename, 'wb'))"
   ]
  },
  {
   "cell_type": "markdown",
   "metadata": {},
   "source": [
    "<h2>2000</h2>"
   ]
  },
  {
   "cell_type": "code",
   "execution_count": 26,
   "metadata": {},
   "outputs": [],
   "source": [
    "X = pd.read_csv('conc_2000.csv').sample(frac=1).reset_index(drop=True)\n",
    "Y = X.pop('LABEL').values\n",
    "X_train, X_test, Y_train, Y_test = train_test_split(X.values, Y, test_size=0.2)"
   ]
  },
  {
   "cell_type": "code",
   "execution_count": 51,
   "metadata": {},
   "outputs": [
    {
     "name": "stdout",
     "output_type": "stream",
     "text": [
      "Accuracy: 0.5775\n",
      "Precision: 0.6311\n",
      "Recall: 0.6033\n",
      "F1: 0.5629\n",
      "0.022521495819091797\n"
     ]
    }
   ],
   "source": [
    "clf = BernoulliNB(alpha=0.1, binarize=0.0, class_prior=None, fit_prior=True)\n",
    "start = time.time()\n",
    "clf.fit(X_train, Y_train)\n",
    "end = time.time()\n",
    "Y_pred = clf.predict(X_test)\n",
    "print(\"Accuracy: %.4f\" % accuracy_score(Y_test, Y_pred))\n",
    "\n",
    "PRF = precision_recall_fscore_support(Y_test, Y_pred, average='macro')\n",
    "print('Precision: %.4f' % PRF[0])\n",
    "print('Recall: %.4f' % PRF[1])\n",
    "print('F1: %.4f' % PRF[2])\n",
    "print(end - start)"
   ]
  },
  {
   "cell_type": "code",
   "execution_count": 28,
   "metadata": {},
   "outputs": [],
   "source": [
    "# save the model to disk\n",
    "filename = 'bayes_2000.sav'\n",
    "pickle.dump(clf, open(filename, 'wb'))"
   ]
  },
  {
   "cell_type": "markdown",
   "metadata": {},
   "source": [
    "<h2>Ograniczone atrybuty</h2>"
   ]
  },
  {
   "cell_type": "code",
   "execution_count": 37,
   "metadata": {},
   "outputs": [],
   "source": [
    "X = pd.read_csv('restricted_conc_3000.csv').sample(frac=1).reset_index(drop=True)\n",
    "Y = X.pop('LABEL').values\n",
    "X_train, X_test, Y_train, Y_test = train_test_split(X.values, Y, test_size=0.2)"
   ]
  },
  {
   "cell_type": "code",
   "execution_count": 52,
   "metadata": {},
   "outputs": [
    {
     "name": "stdout",
     "output_type": "stream",
     "text": [
      "Accuracy: 0.5775\n",
      "Precision: 0.6311\n",
      "Recall: 0.6033\n",
      "F1: 0.5629\n",
      "0.028510093688964844\n"
     ]
    }
   ],
   "source": [
    "clf = BernoulliNB(alpha=0.1, binarize=0.0, class_prior=None, fit_prior=True)\n",
    "start = time.time()\n",
    "clf.fit(X_train, Y_train)\n",
    "end = time.time()\n",
    "Y_pred = clf.predict(X_test)\n",
    "print(\"Accuracy: %.4f\" % accuracy_score(Y_test, Y_pred))\n",
    "\n",
    "PRF = precision_recall_fscore_support(Y_test, Y_pred, average='macro')\n",
    "print('Precision: %.4f' % PRF[0])\n",
    "print('Recall: %.4f' % PRF[1])\n",
    "print('F1: %.4f' % PRF[2])\n",
    "print(end - start)"
   ]
  },
  {
   "cell_type": "code",
   "execution_count": 39,
   "metadata": {},
   "outputs": [],
   "source": [
    "# save the model to disk\n",
    "filename = 'bayes_restr.sav'\n",
    "pickle.dump(clf, open(filename, 'wb'))"
   ]
  },
  {
   "cell_type": "code",
   "execution_count": null,
   "metadata": {},
   "outputs": [],
   "source": []
  }
 ],
 "metadata": {
  "kernelspec": {
   "display_name": "Python 3",
   "language": "python",
   "name": "python3"
  },
  "language_info": {
   "codemirror_mode": {
    "name": "ipython",
    "version": 3
   },
   "file_extension": ".py",
   "mimetype": "text/x-python",
   "name": "python",
   "nbconvert_exporter": "python",
   "pygments_lexer": "ipython3",
   "version": "3.4.3"
  }
 },
 "nbformat": 4,
 "nbformat_minor": 2
}
