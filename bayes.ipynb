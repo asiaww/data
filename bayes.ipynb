{
 "cells": [
  {
   "cell_type": "code",
   "execution_count": 14,
   "metadata": {},
   "outputs": [],
   "source": [
    "import numpy as np\n",
    "import pandas as pd\n",
    "import matplotlib.pyplot as plt\n",
    "import itertools\n",
    "import pickle\n",
    "\n",
    "from sklearn.naive_bayes import BernoulliNB, GaussianNB, MultinomialNB\n",
    "from sklearn.model_selection import train_test_split\n",
    "from sklearn.metrics import precision_recall_fscore_support\n",
    "from sklearn.metrics import classification_report\n",
    "from sklearn.metrics import accuracy_score\n",
    "from sklearn.metrics import confusion_matrix\n",
    "from sklearn.metrics import log_loss\n",
    "from sklearn.metrics import roc_curve, auc\n",
    "\n",
    "from sklearn import datasets\n",
    "from sklearn.preprocessing import label_binarize"
   ]
  },
  {
   "cell_type": "markdown",
   "metadata": {},
   "source": [
    "<h2>3000</h2>"
   ]
  },
  {
   "cell_type": "code",
   "execution_count": 49,
   "metadata": {},
   "outputs": [],
   "source": [
    "X = pd.read_csv('conc_3000.csv').sample(frac=1).reset_index(drop=True)\n",
    "Y = X.pop('LABEL').values\n",
    "X_train, X_test, Y_train, Y_test = train_test_split(X.values, Y, test_size=0.2)"
   ]
  },
  {
   "cell_type": "code",
   "execution_count": 50,
   "metadata": {},
   "outputs": [
    {
     "name": "stdout",
     "output_type": "stream",
     "text": [
      "Accuracy: 0.735833\n",
      "Precision: 0.76\n",
      "Recall: 0.74\n",
      "F1: 0.73\n",
      "LOGARITHMIC LOSS\n",
      "Logarithmic loss: 9.12\n"
     ]
    }
   ],
   "source": [
    "clf = BernoulliNB(alpha=0.1, binarize=0.0, class_prior=None, fit_prior=True)\n",
    "clf.fit(X_train, Y_train)\n",
    "Y_pred = clf.predict(X_test)\n",
    "print(\"Accuracy: %f\" % accuracy_score(Y_test, Y_pred))\n",
    "\n",
    "PRF = precision_recall_fscore_support(Y_test, Y_pred, average='macro')\n",
    "print('Precision: %.2f' % PRF[0])\n",
    "print('Recall: %.2f' % PRF[1])\n",
    "print('F1: %.2f' % PRF[2])\n",
    "\n",
    "print('LOGARITHMIC LOSS')\n",
    "print('Logarithmic loss: %.2f' % log_loss(Y_test, Y_pred,normalize=True))"
   ]
  },
  {
   "cell_type": "code",
   "execution_count": 33,
   "metadata": {},
   "outputs": [],
   "source": [
    "# save the model to disk\n",
    "filename = 'bayes_3000.sav'\n",
    "pickle.dump(clf, open(filename, 'wb'))"
   ]
  },
  {
   "cell_type": "markdown",
   "metadata": {},
   "source": [
    "<h2>100</h2>"
   ]
  },
  {
   "cell_type": "code",
   "execution_count": 16,
   "metadata": {},
   "outputs": [],
   "source": [
    "X = pd.read_csv('conc_100.csv').sample(frac=1).reset_index(drop=True)\n",
    "Y = X.pop('LABEL').values\n",
    "X_train, X_test, Y_train, Y_test = train_test_split(X.values, Y, test_size=0.2)"
   ]
  },
  {
   "cell_type": "code",
   "execution_count": 19,
   "metadata": {},
   "outputs": [
    {
     "name": "stdout",
     "output_type": "stream",
     "text": [
      "Accuracy: 0.500000\n",
      "Precision: 0.57\n",
      "Recall: 0.56\n",
      "F1: 0.49\n",
      "LOGARITHMIC LOSS\n",
      "Logarithmic loss: 17.27\n"
     ]
    }
   ],
   "source": [
    "clf = BernoulliNB(alpha=0.05, binarize=0.0, class_prior=None, fit_prior=True)\n",
    "clf.fit(X_train, Y_train)\n",
    "Y_pred = clf.predict(X_test)\n",
    "print(\"Accuracy: %f\" % accuracy_score(Y_test, Y_pred))\n",
    "\n",
    "PRF = precision_recall_fscore_support(Y_test, Y_pred, average='macro')\n",
    "print('Precision: %.2f' % PRF[0])\n",
    "print('Recall: %.2f' % PRF[1])\n",
    "print('F1: %.2f' % PRF[2])\n",
    "\n",
    "print('LOGARITHMIC LOSS')\n",
    "print('Logarithmic loss: %.2f' % log_loss(Y_test, Y_pred,normalize=True))"
   ]
  },
  {
   "cell_type": "code",
   "execution_count": 20,
   "metadata": {},
   "outputs": [],
   "source": [
    "# save the model to disk\n",
    "filename = 'bayes_100.sav'\n",
    "pickle.dump(clf, open(filename, 'wb'))"
   ]
  },
  {
   "cell_type": "markdown",
   "metadata": {},
   "source": [
    "<h2>500</h2>"
   ]
  },
  {
   "cell_type": "code",
   "execution_count": 21,
   "metadata": {},
   "outputs": [],
   "source": [
    "X = pd.read_csv('conc_500.csv').sample(frac=1).reset_index(drop=True)\n",
    "Y = X.pop('LABEL').values\n",
    "X_train, X_test, Y_train, Y_test = train_test_split(X.values, Y, test_size=0.2)"
   ]
  },
  {
   "cell_type": "code",
   "execution_count": 22,
   "metadata": {},
   "outputs": [
    {
     "name": "stdout",
     "output_type": "stream",
     "text": [
      "Accuracy: 0.610000\n",
      "Precision: 0.66\n",
      "Recall: 0.62\n",
      "F1: 0.59\n",
      "LOGARITHMIC LOSS\n",
      "Logarithmic loss: 13.47\n"
     ]
    }
   ],
   "source": [
    "clf = BernoulliNB(alpha=0.1, binarize=0.0, class_prior=None, fit_prior=True)\n",
    "clf.fit(X_train, Y_train)\n",
    "Y_pred = clf.predict(X_test)\n",
    "print(\"Accuracy: %f\" % accuracy_score(Y_test, Y_pred))\n",
    "\n",
    "PRF = precision_recall_fscore_support(Y_test, Y_pred, average='macro')\n",
    "print('Precision: %.2f' % PRF[0])\n",
    "print('Recall: %.2f' % PRF[1])\n",
    "print('F1: %.2f' % PRF[2])\n",
    "\n",
    "print('LOGARITHMIC LOSS')\n",
    "print('Logarithmic loss: %.2f' % log_loss(Y_test, Y_pred,normalize=True))"
   ]
  },
  {
   "cell_type": "code",
   "execution_count": 23,
   "metadata": {},
   "outputs": [],
   "source": [
    "# save the model to disk\n",
    "filename = 'bayes_500.sav'\n",
    "pickle.dump(clf, open(filename, 'wb'))"
   ]
  },
  {
   "cell_type": "markdown",
   "metadata": {},
   "source": [
    "<h2>1000</h2>"
   ]
  },
  {
   "cell_type": "code",
   "execution_count": 24,
   "metadata": {},
   "outputs": [],
   "source": [
    "X = pd.read_csv('conc_1000.csv').sample(frac=1).reset_index(drop=True)\n",
    "Y = X.pop('LABEL').values\n",
    "X_train, X_test, Y_train, Y_test = train_test_split(X.values, Y, test_size=0.2)"
   ]
  },
  {
   "cell_type": "code",
   "execution_count": 25,
   "metadata": {},
   "outputs": [
    {
     "name": "stdout",
     "output_type": "stream",
     "text": [
      "Accuracy: 0.610000\n",
      "Precision: 0.66\n",
      "Recall: 0.61\n",
      "F1: 0.58\n",
      "LOGARITHMIC LOSS\n",
      "Logarithmic loss: 13.47\n"
     ]
    }
   ],
   "source": [
    "clf = BernoulliNB(alpha=0.1, binarize=0.0, class_prior=None, fit_prior=True)\n",
    "clf.fit(X_train, Y_train)\n",
    "Y_pred = clf.predict(X_test)\n",
    "print(\"Accuracy: %f\" % accuracy_score(Y_test, Y_pred))\n",
    "\n",
    "PRF = precision_recall_fscore_support(Y_test, Y_pred, average='macro')\n",
    "print('Precision: %.2f' % PRF[0])\n",
    "print('Recall: %.2f' % PRF[1])\n",
    "print('F1: %.2f' % PRF[2])\n",
    "\n",
    "print('LOGARITHMIC LOSS')\n",
    "print('Logarithmic loss: %.2f' % log_loss(Y_test, Y_pred,normalize=True))"
   ]
  },
  {
   "cell_type": "code",
   "execution_count": 26,
   "metadata": {},
   "outputs": [],
   "source": [
    "# save the model to disk\n",
    "filename = 'bayes_1000.sav'\n",
    "pickle.dump(clf, open(filename, 'wb'))"
   ]
  },
  {
   "cell_type": "markdown",
   "metadata": {},
   "source": [
    "<h2>2000</h2>"
   ]
  },
  {
   "cell_type": "code",
   "execution_count": 45,
   "metadata": {},
   "outputs": [],
   "source": [
    "X = pd.read_csv('conc_2000.csv').sample(frac=1).reset_index(drop=True)\n",
    "Y = X.pop('LABEL').values\n",
    "X_train, X_test, Y_train, Y_test = train_test_split(X.values, Y, test_size=0.2)"
   ]
  },
  {
   "cell_type": "code",
   "execution_count": 47,
   "metadata": {},
   "outputs": [
    {
     "name": "stdout",
     "output_type": "stream",
     "text": [
      "Accuracy: 0.622500\n",
      "Precision: 0.67\n",
      "Recall: 0.61\n",
      "F1: 0.57\n",
      "LOGARITHMIC LOSS\n",
      "Logarithmic loss: 13.04\n"
     ]
    }
   ],
   "source": [
    "clf = BernoulliNB(alpha=0.1, binarize=0.0, class_prior=None, fit_prior=True)\n",
    "clf.fit(X_train, Y_train)\n",
    "Y_pred = clf.predict(X_test)\n",
    "print(\"Accuracy: %f\" % accuracy_score(Y_test, Y_pred))\n",
    "\n",
    "PRF = precision_recall_fscore_support(Y_test, Y_pred, average='macro')\n",
    "print('Precision: %.2f' % PRF[0])\n",
    "print('Recall: %.2f' % PRF[1])\n",
    "print('F1: %.2f' % PRF[2])\n",
    "\n",
    "print('LOGARITHMIC LOSS')\n",
    "print('Logarithmic loss: %.2f' % log_loss(Y_test, Y_pred,normalize=True))"
   ]
  },
  {
   "cell_type": "code",
   "execution_count": 48,
   "metadata": {},
   "outputs": [],
   "source": [
    "# save the model to disk\n",
    "filename = 'bayes_2000.sav'\n",
    "pickle.dump(clf, open(filename, 'wb'))"
   ]
  },
  {
   "cell_type": "code",
   "execution_count": null,
   "metadata": {},
   "outputs": [],
   "source": []
  }
 ],
 "metadata": {
  "kernelspec": {
   "display_name": "Python 3",
   "language": "python",
   "name": "python3"
  },
  "language_info": {
   "codemirror_mode": {
    "name": "ipython",
    "version": 3
   },
   "file_extension": ".py",
   "mimetype": "text/x-python",
   "name": "python",
   "nbconvert_exporter": "python",
   "pygments_lexer": "ipython3",
   "version": "3.4.3"
  }
 },
 "nbformat": 4,
 "nbformat_minor": 2
}
