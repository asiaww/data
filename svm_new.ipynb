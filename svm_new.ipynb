{
 "cells": [
  {
   "cell_type": "code",
   "execution_count": 6,
   "metadata": {},
   "outputs": [],
   "source": [
    "from sklearn.model_selection import train_test_split\n",
    "from sklearn.metrics import precision_recall_fscore_support\n",
    "from sklearn.metrics import classification_report\n",
    "from sklearn.metrics import accuracy_score\n",
    "from sklearn.metrics import confusion_matrix\n",
    "from sklearn.metrics import log_loss\n",
    "from sklearn.metrics import roc_curve\n",
    "from sklearn.metrics import auc\n",
    "from sklearn import svm\n",
    "\n",
    "import pandas as pd\n",
    "import numpy as np\n",
    "\n",
    "import matplotlib.pyplot as plt\n",
    "import itertools\n",
    "import pickle\n",
    "\n",
    "import time"
   ]
  },
  {
   "cell_type": "markdown",
   "metadata": {},
   "source": [
    "<h2>3000</h2>"
   ]
  },
  {
   "cell_type": "code",
   "execution_count": 20,
   "metadata": {},
   "outputs": [
    {
     "data": {
      "text/html": [
       "<div>\n",
       "<style scoped>\n",
       "    .dataframe tbody tr th:only-of-type {\n",
       "        vertical-align: middle;\n",
       "    }\n",
       "\n",
       "    .dataframe tbody tr th {\n",
       "        vertical-align: top;\n",
       "    }\n",
       "\n",
       "    .dataframe thead th {\n",
       "        text-align: right;\n",
       "    }\n",
       "</style>\n",
       "<table border=\"1\" class=\"dataframe\">\n",
       "  <thead>\n",
       "    <tr style=\"text-align: right;\">\n",
       "      <th></th>\n",
       "      <th>android.intent.action.ACTION_PICK_ACTIVITY</th>\n",
       "      <th>android.intent.action.ACTION_PACKAGE_FULLY_REMOVED</th>\n",
       "      <th>android.intent.action.ACTION_SHOW_APP_INFO</th>\n",
       "      <th>android.permission.READ_SYNC_STATS</th>\n",
       "      <th>android.permission.INTERNET</th>\n",
       "      <th>android.software.app_widgets</th>\n",
       "      <th>android.permission.MANAGE_SOUND_TRIGGER</th>\n",
       "      <th>android.permission.MANAGE_FINGERPRINT</th>\n",
       "      <th>android.permission.START_TASKS_FROM_RECENTS</th>\n",
       "      <th>android.permission.COPY_PROTECTED_DATA</th>\n",
       "      <th>...</th>\n",
       "      <th>android.intent.action.ACTION_LOCKED_BOOT_COMPLETED</th>\n",
       "      <th>android.permission.SET_INPUT_CALIBRATION</th>\n",
       "      <th>android.software.home_screen</th>\n",
       "      <th>android.permission.RECEIVE_WIFI_CREDENTIAL_CHANGE</th>\n",
       "      <th>android.intent.action.ACTION_EDIT</th>\n",
       "      <th>android.permission.SET_ALWAYS_FINISH</th>\n",
       "      <th>android.hardware.camera.autofocus</th>\n",
       "      <th>android.intent.action.ACTION_PACKAGE_VERIFIED</th>\n",
       "      <th>android.intent.action.ACTION_MEDIA_CHECKING</th>\n",
       "      <th>android.intent.action.ACTION_EXTERNAL_APPLICATIONS_AVAILABLE</th>\n",
       "    </tr>\n",
       "  </thead>\n",
       "  <tbody>\n",
       "    <tr>\n",
       "      <th>0</th>\n",
       "      <td>0</td>\n",
       "      <td>0</td>\n",
       "      <td>0</td>\n",
       "      <td>0</td>\n",
       "      <td>1</td>\n",
       "      <td>0</td>\n",
       "      <td>0</td>\n",
       "      <td>0</td>\n",
       "      <td>0</td>\n",
       "      <td>0</td>\n",
       "      <td>...</td>\n",
       "      <td>0</td>\n",
       "      <td>0</td>\n",
       "      <td>0</td>\n",
       "      <td>0</td>\n",
       "      <td>0</td>\n",
       "      <td>0</td>\n",
       "      <td>0</td>\n",
       "      <td>0</td>\n",
       "      <td>0</td>\n",
       "      <td>0</td>\n",
       "    </tr>\n",
       "    <tr>\n",
       "      <th>1</th>\n",
       "      <td>0</td>\n",
       "      <td>0</td>\n",
       "      <td>0</td>\n",
       "      <td>0</td>\n",
       "      <td>1</td>\n",
       "      <td>0</td>\n",
       "      <td>0</td>\n",
       "      <td>0</td>\n",
       "      <td>0</td>\n",
       "      <td>0</td>\n",
       "      <td>...</td>\n",
       "      <td>0</td>\n",
       "      <td>0</td>\n",
       "      <td>0</td>\n",
       "      <td>0</td>\n",
       "      <td>0</td>\n",
       "      <td>0</td>\n",
       "      <td>0</td>\n",
       "      <td>0</td>\n",
       "      <td>0</td>\n",
       "      <td>0</td>\n",
       "    </tr>\n",
       "    <tr>\n",
       "      <th>2</th>\n",
       "      <td>0</td>\n",
       "      <td>0</td>\n",
       "      <td>0</td>\n",
       "      <td>0</td>\n",
       "      <td>1</td>\n",
       "      <td>0</td>\n",
       "      <td>0</td>\n",
       "      <td>0</td>\n",
       "      <td>0</td>\n",
       "      <td>0</td>\n",
       "      <td>...</td>\n",
       "      <td>0</td>\n",
       "      <td>0</td>\n",
       "      <td>0</td>\n",
       "      <td>0</td>\n",
       "      <td>0</td>\n",
       "      <td>0</td>\n",
       "      <td>0</td>\n",
       "      <td>0</td>\n",
       "      <td>0</td>\n",
       "      <td>0</td>\n",
       "    </tr>\n",
       "    <tr>\n",
       "      <th>3</th>\n",
       "      <td>0</td>\n",
       "      <td>0</td>\n",
       "      <td>0</td>\n",
       "      <td>0</td>\n",
       "      <td>1</td>\n",
       "      <td>0</td>\n",
       "      <td>0</td>\n",
       "      <td>0</td>\n",
       "      <td>0</td>\n",
       "      <td>0</td>\n",
       "      <td>...</td>\n",
       "      <td>0</td>\n",
       "      <td>0</td>\n",
       "      <td>0</td>\n",
       "      <td>0</td>\n",
       "      <td>0</td>\n",
       "      <td>0</td>\n",
       "      <td>0</td>\n",
       "      <td>0</td>\n",
       "      <td>0</td>\n",
       "      <td>0</td>\n",
       "    </tr>\n",
       "    <tr>\n",
       "      <th>4</th>\n",
       "      <td>0</td>\n",
       "      <td>0</td>\n",
       "      <td>0</td>\n",
       "      <td>0</td>\n",
       "      <td>1</td>\n",
       "      <td>0</td>\n",
       "      <td>0</td>\n",
       "      <td>0</td>\n",
       "      <td>0</td>\n",
       "      <td>0</td>\n",
       "      <td>...</td>\n",
       "      <td>0</td>\n",
       "      <td>0</td>\n",
       "      <td>0</td>\n",
       "      <td>0</td>\n",
       "      <td>0</td>\n",
       "      <td>0</td>\n",
       "      <td>0</td>\n",
       "      <td>0</td>\n",
       "      <td>0</td>\n",
       "      <td>0</td>\n",
       "    </tr>\n",
       "  </tbody>\n",
       "</table>\n",
       "<p>5 rows × 521 columns</p>\n",
       "</div>"
      ],
      "text/plain": [
       "   android.intent.action.ACTION_PICK_ACTIVITY  \\\n",
       "0                                           0   \n",
       "1                                           0   \n",
       "2                                           0   \n",
       "3                                           0   \n",
       "4                                           0   \n",
       "\n",
       "   android.intent.action.ACTION_PACKAGE_FULLY_REMOVED  \\\n",
       "0                                                  0    \n",
       "1                                                  0    \n",
       "2                                                  0    \n",
       "3                                                  0    \n",
       "4                                                  0    \n",
       "\n",
       "   android.intent.action.ACTION_SHOW_APP_INFO  \\\n",
       "0                                           0   \n",
       "1                                           0   \n",
       "2                                           0   \n",
       "3                                           0   \n",
       "4                                           0   \n",
       "\n",
       "   android.permission.READ_SYNC_STATS  android.permission.INTERNET  \\\n",
       "0                                   0                            1   \n",
       "1                                   0                            1   \n",
       "2                                   0                            1   \n",
       "3                                   0                            1   \n",
       "4                                   0                            1   \n",
       "\n",
       "   android.software.app_widgets  android.permission.MANAGE_SOUND_TRIGGER  \\\n",
       "0                             0                                        0   \n",
       "1                             0                                        0   \n",
       "2                             0                                        0   \n",
       "3                             0                                        0   \n",
       "4                             0                                        0   \n",
       "\n",
       "   android.permission.MANAGE_FINGERPRINT  \\\n",
       "0                                      0   \n",
       "1                                      0   \n",
       "2                                      0   \n",
       "3                                      0   \n",
       "4                                      0   \n",
       "\n",
       "   android.permission.START_TASKS_FROM_RECENTS  \\\n",
       "0                                            0   \n",
       "1                                            0   \n",
       "2                                            0   \n",
       "3                                            0   \n",
       "4                                            0   \n",
       "\n",
       "   android.permission.COPY_PROTECTED_DATA  \\\n",
       "0                                       0   \n",
       "1                                       0   \n",
       "2                                       0   \n",
       "3                                       0   \n",
       "4                                       0   \n",
       "\n",
       "                               ...                               \\\n",
       "0                              ...                                \n",
       "1                              ...                                \n",
       "2                              ...                                \n",
       "3                              ...                                \n",
       "4                              ...                                \n",
       "\n",
       "   android.intent.action.ACTION_LOCKED_BOOT_COMPLETED  \\\n",
       "0                                                  0    \n",
       "1                                                  0    \n",
       "2                                                  0    \n",
       "3                                                  0    \n",
       "4                                                  0    \n",
       "\n",
       "   android.permission.SET_INPUT_CALIBRATION  android.software.home_screen  \\\n",
       "0                                         0                             0   \n",
       "1                                         0                             0   \n",
       "2                                         0                             0   \n",
       "3                                         0                             0   \n",
       "4                                         0                             0   \n",
       "\n",
       "   android.permission.RECEIVE_WIFI_CREDENTIAL_CHANGE  \\\n",
       "0                                                  0   \n",
       "1                                                  0   \n",
       "2                                                  0   \n",
       "3                                                  0   \n",
       "4                                                  0   \n",
       "\n",
       "   android.intent.action.ACTION_EDIT  android.permission.SET_ALWAYS_FINISH  \\\n",
       "0                                  0                                     0   \n",
       "1                                  0                                     0   \n",
       "2                                  0                                     0   \n",
       "3                                  0                                     0   \n",
       "4                                  0                                     0   \n",
       "\n",
       "   android.hardware.camera.autofocus  \\\n",
       "0                                  0   \n",
       "1                                  0   \n",
       "2                                  0   \n",
       "3                                  0   \n",
       "4                                  0   \n",
       "\n",
       "   android.intent.action.ACTION_PACKAGE_VERIFIED  \\\n",
       "0                                              0   \n",
       "1                                              0   \n",
       "2                                              0   \n",
       "3                                              0   \n",
       "4                                              0   \n",
       "\n",
       "   android.intent.action.ACTION_MEDIA_CHECKING  \\\n",
       "0                                            0   \n",
       "1                                            0   \n",
       "2                                            0   \n",
       "3                                            0   \n",
       "4                                            0   \n",
       "\n",
       "   android.intent.action.ACTION_EXTERNAL_APPLICATIONS_AVAILABLE  \n",
       "0                                                  0             \n",
       "1                                                  0             \n",
       "2                                                  0             \n",
       "3                                                  0             \n",
       "4                                                  0             \n",
       "\n",
       "[5 rows x 521 columns]"
      ]
     },
     "execution_count": 20,
     "metadata": {},
     "output_type": "execute_result"
    }
   ],
   "source": [
    "X = pd.read_csv('conc_3000.csv', index_col=[0]).sample(frac=1).reset_index(drop=True)\n",
    "X.head()"
   ]
  },
  {
   "cell_type": "code",
   "execution_count": 21,
   "metadata": {
    "scrolled": true
   },
   "outputs": [
    {
     "data": {
      "text/plain": [
       "array([1, 1, 1, ..., 0, 0, 1])"
      ]
     },
     "execution_count": 21,
     "metadata": {},
     "output_type": "execute_result"
    }
   ],
   "source": [
    "Y = X.pop('LABEL').values\n",
    "Y"
   ]
  },
  {
   "cell_type": "code",
   "execution_count": 22,
   "metadata": {},
   "outputs": [],
   "source": [
    "X_train, X_test, Y_train, Y_test = train_test_split(X.values, Y, test_size=0.2)"
   ]
  },
  {
   "cell_type": "code",
   "execution_count": 8,
   "metadata": {},
   "outputs": [
    {
     "name": "stdout",
     "output_type": "stream",
     "text": [
      "1.4743266105651855\n"
     ]
    }
   ],
   "source": [
    "clf = svm.SVC(kernel='rbf', gamma=0.1, C=100)\n",
    "start = time.time()\n",
    "clf.fit(X_train, Y_train)\n",
    "end = time.time()\n",
    "print(end - start)"
   ]
  },
  {
   "cell_type": "code",
   "execution_count": 31,
   "metadata": {},
   "outputs": [
    {
     "name": "stdout",
     "output_type": "stream",
     "text": [
      "Accuracy: 0.90\n",
      "Precision: 0.90\n",
      "Recall: 0.90\n",
      "F1: 0.90\n",
      "Logarithmic loss: 3.43\n"
     ]
    }
   ],
   "source": [
    "Y_result = clf.predict(X_test)\n",
    "\n",
    "print('Accuracy: %.2f' % accuracy_score(Y_test, Y_result))\n",
    "PRF = precision_recall_fscore_support(Y_test, Y_result, average='macro')\n",
    "print('Precision: %.2f' % PRF[0])\n",
    "print('Recall: %.2f' % PRF[1])\n",
    "print('F1: %.2f' % PRF[2])\n",
    "print('Logarithmic loss: %.2f' % log_loss(Y_test, Y_result,normalize=True))"
   ]
  },
  {
   "cell_type": "code",
   "execution_count": 32,
   "metadata": {},
   "outputs": [],
   "source": [
    "# save the model to disk\n",
    "filename = 'svm_3000.sav'\n",
    "pickle.dump(clf, open(filename, 'wb'))"
   ]
  },
  {
   "cell_type": "code",
   "execution_count": 33,
   "metadata": {},
   "outputs": [
    {
     "name": "stdout",
     "output_type": "stream",
     "text": [
      "[0 1 1 ... 0 0 1]\n",
      "[0 1 1 ... 0 0 1]\n"
     ]
    }
   ],
   "source": [
    "print(Y_test)\n",
    "print(Y_result)"
   ]
  },
  {
   "cell_type": "markdown",
   "metadata": {},
   "source": [
    "<h2>100</h2>"
   ]
  },
  {
   "cell_type": "code",
   "execution_count": 10,
   "metadata": {},
   "outputs": [],
   "source": [
    "X = pd.read_csv('conc_100.csv', index_col=[0]).sample(frac=1).reset_index(drop=True)\n",
    "Y = X.pop('LABEL').values\n",
    "X_train, X_test, Y_train, Y_test = train_test_split(X.values, Y, test_size=0.2)"
   ]
  },
  {
   "cell_type": "code",
   "execution_count": 11,
   "metadata": {},
   "outputs": [
    {
     "name": "stdout",
     "output_type": "stream",
     "text": [
      "0.027370691299438477\n",
      "Accuracy: 0.82\n",
      "Precision: 0.82\n",
      "Recall: 0.83\n",
      "F1: 0.82\n",
      "Logarithmic loss: 6.04\n"
     ]
    }
   ],
   "source": [
    "clf = svm.SVC(kernel='rbf', gamma=0.1, C=100)\n",
    "start = time.time()\n",
    "clf.fit(X_train, Y_train)\n",
    "end = time.time()\n",
    "print(end - start)\n",
    "Y_result = clf.predict(X_test)\n",
    "\n",
    "print('Accuracy: %.2f' % accuracy_score(Y_test, Y_result))\n",
    "PRF = precision_recall_fscore_support(Y_test, Y_result, average='macro')\n",
    "print('Precision: %.2f' % PRF[0])\n",
    "print('Recall: %.2f' % PRF[1])\n",
    "print('F1: %.2f' % PRF[2])\n",
    "print('Logarithmic loss: %.2f' % log_loss(Y_test, Y_result,normalize=True))"
   ]
  },
  {
   "cell_type": "code",
   "execution_count": 37,
   "metadata": {},
   "outputs": [],
   "source": [
    "# save the model to disk\n",
    "filename = 'svm_100.sav'\n",
    "pickle.dump(clf, open(filename, 'wb'))"
   ]
  },
  {
   "cell_type": "markdown",
   "metadata": {},
   "source": [
    "<h2>500</h2>"
   ]
  },
  {
   "cell_type": "code",
   "execution_count": 14,
   "metadata": {},
   "outputs": [],
   "source": [
    "X = pd.read_csv('conc_500.csv', index_col=[0]).sample(frac=1).reset_index(drop=True)\n",
    "Y = X.pop('LABEL').values\n",
    "X_train, X_test, Y_train, Y_test = train_test_split(X.values, Y, test_size=0.2)"
   ]
  },
  {
   "cell_type": "code",
   "execution_count": 15,
   "metadata": {},
   "outputs": [
    {
     "name": "stdout",
     "output_type": "stream",
     "text": [
      "0.2590813636779785\n",
      "Accuracy: 0.86\n",
      "Precision: 0.87\n",
      "Recall: 0.86\n",
      "F1: 0.86\n",
      "Logarithmic loss: 4.84\n"
     ]
    }
   ],
   "source": [
    "clf = svm.SVC(kernel='rbf', gamma=0.1, C=100)\n",
    "start = time.time()\n",
    "clf.fit(X_train, Y_train)\n",
    "end = time.time()\n",
    "print(end - start)\n",
    "Y_result = clf.predict(X_test)\n",
    "\n",
    "print('Accuracy: %.2f' % accuracy_score(Y_test, Y_result))\n",
    "PRF = precision_recall_fscore_support(Y_test, Y_result, average='macro')\n",
    "print('Precision: %.2f' % PRF[0])\n",
    "print('Recall: %.2f' % PRF[1])\n",
    "print('F1: %.2f' % PRF[2])\n",
    "print('Logarithmic loss: %.2f' % log_loss(Y_test, Y_result,normalize=True))"
   ]
  },
  {
   "cell_type": "code",
   "execution_count": 40,
   "metadata": {},
   "outputs": [],
   "source": [
    "# save the model to disk\n",
    "filename = 'svm_500.sav'\n",
    "pickle.dump(clf, open(filename, 'wb'))"
   ]
  },
  {
   "cell_type": "markdown",
   "metadata": {},
   "source": [
    "<h2>1000</h2>"
   ]
  },
  {
   "cell_type": "code",
   "execution_count": 16,
   "metadata": {},
   "outputs": [],
   "source": [
    "X = pd.read_csv('conc_1000.csv', index_col=[0]).sample(frac=1).reset_index(drop=True)\n",
    "Y = X.pop('LABEL').values\n",
    "X_train, X_test, Y_train, Y_test = train_test_split(X.values, Y, test_size=0.2)"
   ]
  },
  {
   "cell_type": "code",
   "execution_count": 17,
   "metadata": {},
   "outputs": [
    {
     "name": "stdout",
     "output_type": "stream",
     "text": [
      "0.862297773361206\n",
      "Accuracy: 0.88\n",
      "Precision: 0.88\n",
      "Recall: 0.88\n",
      "F1: 0.87\n",
      "Logarithmic loss: 4.32\n"
     ]
    }
   ],
   "source": [
    "clf = svm.SVC(kernel='rbf', gamma=0.1, C=100)\n",
    "start = time.time()\n",
    "clf.fit(X_train, Y_train)\n",
    "end = time.time()\n",
    "print(end - start)\n",
    "Y_result = clf.predict(X_test)\n",
    "\n",
    "print('Accuracy: %.2f' % accuracy_score(Y_test, Y_result))\n",
    "PRF = precision_recall_fscore_support(Y_test, Y_result, average='macro')\n",
    "print('Precision: %.2f' % PRF[0])\n",
    "print('Recall: %.2f' % PRF[1])\n",
    "print('F1: %.2f' % PRF[2])\n",
    "print('Logarithmic loss: %.2f' % log_loss(Y_test, Y_result,normalize=True))"
   ]
  },
  {
   "cell_type": "code",
   "execution_count": 50,
   "metadata": {},
   "outputs": [],
   "source": [
    "# save the model to disk\n",
    "filename = 'svm_1000.sav'\n",
    "pickle.dump(clf, open(filename, 'wb'))"
   ]
  },
  {
   "cell_type": "markdown",
   "metadata": {},
   "source": [
    "<h2>2000</h2>"
   ]
  },
  {
   "cell_type": "code",
   "execution_count": 20,
   "metadata": {},
   "outputs": [],
   "source": [
    "X = pd.read_csv('conc_2000.csv', index_col=[0]).sample(frac=1).reset_index(drop=True)\n",
    "Y = X.pop('LABEL').values\n",
    "X_train, X_test, Y_train, Y_test = train_test_split(X.values, Y, test_size=0.2)"
   ]
  },
  {
   "cell_type": "code",
   "execution_count": 21,
   "metadata": {},
   "outputs": [
    {
     "name": "stdout",
     "output_type": "stream",
     "text": [
      "3.0715861320495605\n",
      "Accuracy: 0.87\n",
      "Precision: 0.87\n",
      "Recall: 0.87\n",
      "F1: 0.87\n",
      "Logarithmic loss: 4.36\n"
     ]
    }
   ],
   "source": [
    "clf = svm.SVC(kernel='rbf', gamma=0.1, C=100)\n",
    "start = time.time()\n",
    "clf.fit(X_train, Y_train)\n",
    "end = time.time()\n",
    "print(end - start)\n",
    "Y_result = clf.predict(X_test)\n",
    "\n",
    "print('Accuracy: %.2f' % accuracy_score(Y_test, Y_result))\n",
    "PRF = precision_recall_fscore_support(Y_test, Y_result, average='macro')\n",
    "print('Precision: %.2f' % PRF[0])\n",
    "print('Recall: %.2f' % PRF[1])\n",
    "print('F1: %.2f' % PRF[2])\n",
    "print('Logarithmic loss: %.2f' % log_loss(Y_test, Y_result,normalize=True))"
   ]
  },
  {
   "cell_type": "code",
   "execution_count": 53,
   "metadata": {},
   "outputs": [],
   "source": [
    "# save the model to disk\n",
    "filename = 'svm_2000.sav'\n",
    "pickle.dump(clf, open(filename, 'wb'))"
   ]
  },
  {
   "cell_type": "code",
   "execution_count": 22,
   "metadata": {},
   "outputs": [
    {
     "name": "stdout",
     "output_type": "stream",
     "text": [
      "1.4658513069152832\n",
      "Accuracy: 0.6133\n",
      "Precision: 0.6407\n",
      "Recall: 0.6219\n",
      "F1: 0.6030\n"
     ]
    }
   ],
   "source": [
    "X = pd.read_csv('restricted_conc_3000.csv', index_col=[0]).sample(frac=1).reset_index(drop=True)\n",
    "Y = X.pop('LABEL').values\n",
    "X_train, X_test, Y_train, Y_test = train_test_split(X.values, Y, test_size=0.2)\n",
    "clf = svm.SVC(kernel='rbf', gamma=0.1, C=100)\n",
    "start = time.time()\n",
    "clf.fit(X_train, Y_train)\n",
    "end = time.time()\n",
    "print(end - start)\n",
    "Y_result = clf.predict(X_test)\n",
    "\n",
    "print('Accuracy: %.4f' % accuracy_score(Y_test, Y_result))\n",
    "PRF = precision_recall_fscore_support(Y_test, Y_result, average='macro')\n",
    "print('Precision: %.4f' % PRF[0])\n",
    "print('Recall: %.4f' % PRF[1])\n",
    "print('F1: %.4f' % PRF[2])"
   ]
  },
  {
   "cell_type": "code",
   "execution_count": null,
   "metadata": {},
   "outputs": [],
   "source": []
  }
 ],
 "metadata": {
  "kernelspec": {
   "display_name": "Python 3",
   "language": "python",
   "name": "python3"
  },
  "language_info": {
   "codemirror_mode": {
    "name": "ipython",
    "version": 3
   },
   "file_extension": ".py",
   "mimetype": "text/x-python",
   "name": "python",
   "nbconvert_exporter": "python",
   "pygments_lexer": "ipython3",
   "version": "3.4.3"
  }
 },
 "nbformat": 4,
 "nbformat_minor": 2
}
