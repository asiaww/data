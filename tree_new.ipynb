{
 "cells": [
  {
   "cell_type": "code",
   "execution_count": 7,
   "metadata": {},
   "outputs": [],
   "source": [
    "import numpy as np\n",
    "import pandas as pd\n",
    "import matplotlib.pyplot as plt\n",
    "\n",
    "import itertools\n",
    "import pickle\n",
    "\n",
    "from sklearn.model_selection import train_test_split\n",
    "from sklearn.tree import DecisionTreeClassifier\n",
    "from sklearn.metrics import classification_report\n",
    "from sklearn.metrics import accuracy_score\n",
    "from sklearn.metrics import precision_recall_fscore_support\n",
    "from sklearn.metrics import confusion_matrix\n",
    "from sklearn.metrics import log_loss"
   ]
  },
  {
   "cell_type": "code",
   "execution_count": 9,
   "metadata": {},
   "outputs": [],
   "source": [
    "def load_data(filename):\n",
    "    X = pd.read_csv(filename).sample(frac=1).reset_index(drop=True)\n",
    "    Y = X.pop('LABEL').values\n",
    "    return train_test_split(X.values, Y, test_size=0.2)\n",
    "  \n",
    "def build_classifier(X_train, Y_train):\n",
    "    classifier = DecisionTreeClassifier() #CART\n",
    "    classifier.fit(X_train, Y_train)\n",
    "    return classifier\n",
    "    \n",
    "def predict(classifier, X_test):\n",
    "    return classifier.predict(X_test)\n",
    "\n",
    "def print_metrics(Y_test, Y_pred):\n",
    "    print(\"Accuracy: %.2f\" % accuracy_score(Y_test, Y_pred))\n",
    "    PRF = precision_recall_fscore_support(Y_test, Y_pred, average='macro')\n",
    "    print('Precision: %.2f' % PRF[0])\n",
    "    print('Recall: %.2f' % PRF[1])\n",
    "    print('F1: %.2f' % PRF[2])\n",
    "    print('Logarithmic loss: %.2f' % log_loss(Y_test, Y_pred,normalize=True))\n",
    "    \n",
    "def dump_model(filename, classifier):\n",
    "    pickle.dump(classifier, open(filename, 'wb'))"
   ]
  },
  {
   "cell_type": "markdown",
   "metadata": {},
   "source": [
    "<h2>3000</h2>"
   ]
  },
  {
   "cell_type": "code",
   "execution_count": 11,
   "metadata": {},
   "outputs": [
    {
     "name": "stdout",
     "output_type": "stream",
     "text": [
      "Accuracy: 0.88\n",
      "Precision: 0.88\n",
      "Recall: 0.88\n",
      "F1: 0.88\n",
      "Logarithmic loss: 4.09\n"
     ]
    }
   ],
   "source": [
    "X_train, X_test, Y_train, Y_test = load_data('conc_3000.csv')\n",
    "clf = build_classifier(X_train, Y_train)\n",
    "Y_pred = predict(clf, X_test)\n",
    "print_metrics(Y_test, Y_pred)\n",
    "dump_model('tree_3000.sav', clf)"
   ]
  },
  {
   "cell_type": "code",
   "execution_count": 12,
   "metadata": {},
   "outputs": [
    {
     "name": "stdout",
     "output_type": "stream",
     "text": [
      "Accuracy: 0.88\n",
      "Precision: 0.88\n",
      "Recall: 0.88\n",
      "F1: 0.88\n",
      "Logarithmic loss: 4.23\n"
     ]
    }
   ],
   "source": [
    "X_train, X_test, Y_train, Y_test = load_data('conc_2000.csv')\n",
    "clf = build_classifier(X_train, Y_train)\n",
    "Y_pred = predict(clf, X_test)\n",
    "print_metrics(Y_test, Y_pred)\n",
    "dump_model('tree_2000.sav', clf)"
   ]
  },
  {
   "cell_type": "code",
   "execution_count": 15,
   "metadata": {},
   "outputs": [
    {
     "name": "stdout",
     "output_type": "stream",
     "text": [
      "Accuracy: 0.84\n",
      "Precision: 0.84\n",
      "Recall: 0.84\n",
      "F1: 0.84\n",
      "Logarithmic loss: 5.53\n"
     ]
    }
   ],
   "source": [
    "X_train, X_test, Y_train, Y_test = load_data('conc_1000.csv')\n",
    "clf = build_classifier(X_train, Y_train)\n",
    "Y_pred = predict(clf, X_test)\n",
    "print_metrics(Y_test, Y_pred)\n",
    "dump_model('tree_1000.sav', clf)"
   ]
  },
  {
   "cell_type": "code",
   "execution_count": 16,
   "metadata": {},
   "outputs": [
    {
     "name": "stdout",
     "output_type": "stream",
     "text": [
      "Accuracy: 0.83\n",
      "Precision: 0.84\n",
      "Recall: 0.83\n",
      "F1: 0.83\n",
      "Logarithmic loss: 5.87\n"
     ]
    }
   ],
   "source": [
    "X_train, X_test, Y_train, Y_test = load_data('conc_500.csv')\n",
    "clf = build_classifier(X_train, Y_train)\n",
    "Y_pred = predict(clf, X_test)\n",
    "print_metrics(Y_test, Y_pred)\n",
    "dump_model('tree_500.sav', clf)"
   ]
  },
  {
   "cell_type": "code",
   "execution_count": 17,
   "metadata": {},
   "outputs": [
    {
     "name": "stdout",
     "output_type": "stream",
     "text": [
      "Accuracy: 0.78\n",
      "Precision: 0.78\n",
      "Recall: 0.79\n",
      "F1: 0.77\n",
      "Logarithmic loss: 7.77\n"
     ]
    }
   ],
   "source": [
    "X_train, X_test, Y_train, Y_test = load_data('conc_100.csv')\n",
    "clf = build_classifier(X_train, Y_train)\n",
    "Y_pred = predict(clf, X_test)\n",
    "print_metrics(Y_test, Y_pred)\n",
    "dump_model('tree_100.sav', clf)"
   ]
  },
  {
   "cell_type": "code",
   "execution_count": null,
   "metadata": {},
   "outputs": [],
   "source": []
  }
 ],
 "metadata": {
  "kernelspec": {
   "display_name": "Python 3",
   "language": "python",
   "name": "python3"
  },
  "language_info": {
   "codemirror_mode": {
    "name": "ipython",
    "version": 3
   },
   "file_extension": ".py",
   "mimetype": "text/x-python",
   "name": "python",
   "nbconvert_exporter": "python",
   "pygments_lexer": "ipython3",
   "version": "3.4.3"
  }
 },
 "nbformat": 4,
 "nbformat_minor": 2
}
